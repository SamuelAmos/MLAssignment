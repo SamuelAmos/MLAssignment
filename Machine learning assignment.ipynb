{
 "cells": [
  {
   "cell_type": "code",
   "execution_count": null,
   "metadata": {},
   "outputs": [],
   "source": [
    "#Load libraries\n",
    "import pandas as pd\n",
    "import numpy as np\n",
    "import matplotlib.pyplot as plt\n",
    "import seaborn as sb\n",
    "from sklearn.model_selection import KFold\n",
    "from sklearn.model_selection import GridSearchCV\n",
    "from sklearn.linear_model import LinearRegression\n",
    "from sklearn import linear_model\n",
    "from sklearn.linear_model import LassoCV\n",
    "from sklearn.model_selection import RandomizedSearchCV\n",
    "from sklearn.tree import DecisionTreeRegressor\n",
    "from sklearn.ensemble import RandomForestRegressor\n",
    "from sklearn.neighbors import KNeighborsRegressor\n",
    "from sklearn import linear_model\n",
    "from sklearn.model_selection import cross_val_score\n",
    "from sklearn.model_selection import cross_val_predict\n",
    "from sklearn import metrics"
   ]
  },
  {
   "cell_type": "code",
   "execution_count": null,
   "metadata": {
    "scrolled": false
   },
   "outputs": [],
   "source": [
    "#Load crime database\n",
    "crime=pd.read_csv(\"crime-recorded-by-police-by-selected-offence-groups-in-bristol-by-ward.csv\", delimiter=\";\")\n",
    "crime=crime[[\"Ward Name \",\"All Crimes (rate per 1000 ward population)\"]]\n",
    "crime=pd.DataFrame(crime.groupby([\"Ward Name \"]).mean())\n",
    "crime"
   ]
  },
  {
   "cell_type": "code",
   "execution_count": null,
   "metadata": {},
   "outputs": [],
   "source": [
    "#Which areas have the highest rates of crime\n",
    "sb.set_style(\"whitegrid\")\n",
    "a4_dims = (16.5, 11.7)\n",
    "fig, ax = plt.subplots(figsize=a4_dims)\n",
    "sb.barplot(x=\"All Crimes (rate per 1000 ward population)\", y=crime.index, data=crime, color=\"steelblue\",ci = None)"
   ]
  },
  {
   "cell_type": "code",
   "execution_count": null,
   "metadata": {},
   "outputs": [],
   "source": [
    "#Load NEETS database\n",
    "NEETS=pd.read_csv(\"16-17-year-olds-neet-or-whose-activity-is-not-known-in-bristol.csv\", delimiter=\";\")\n",
    "NEETS=NEETS[[\"Ward Name \",\"% NEET or Not Known 16-17 year olds\"]]\n",
    "NEETS"
   ]
  },
  {
   "cell_type": "code",
   "execution_count": null,
   "metadata": {},
   "outputs": [],
   "source": [
    "#Load deprivation database\n",
    "dep=pd.read_csv(\"deprivation-in-bristol-2019.csv\", delimiter=\";\")\n",
    "dep=dep[[\"2016 Ward\",\"Index of Multiple Deprivation Score\"]]\n",
    "dep=pd.DataFrame(dep.groupby([\"2016 Ward\"]).mean())\n",
    "dep"
   ]
  },
  {
   "cell_type": "code",
   "execution_count": null,
   "metadata": {},
   "outputs": [],
   "source": [
    "#Load disability database\n",
    "dis=pd.read_csv(\"disability-2016-ward.csv\", delimiter=\";\")\n",
    "dis=dis[[\"2016 Ward Name\",\"% People whose day-to-day activities are limited\"]]\n",
    "dis"
   ]
  },
  {
   "cell_type": "code",
   "execution_count": null,
   "metadata": {},
   "outputs": [],
   "source": [
    "#Load ethnicity database\n",
    "eth=pd.read_csv(\"ethnicity.csv\", delimiter=\";\")\n",
    "eth=eth[[\"2016 Ward name\",\"% Black and Minority Ethnic Group\"]]\n",
    "eth"
   ]
  },
  {
   "cell_type": "code",
   "execution_count": null,
   "metadata": {},
   "outputs": [],
   "source": [
    "#Load overcrowding database\n",
    "oc=pd.read_csv(\"household-size-and-bedrooms-2011-census-by-2016-ward.csv\", delimiter=\";\")\n",
    "oc=oc[[\"2016 Ward Name\",\"% households that are overcrowded\"]]\n",
    "oc"
   ]
  },
  {
   "cell_type": "code",
   "execution_count": null,
   "metadata": {},
   "outputs": [],
   "source": [
    "#Create dataframe, merging all datasets together\n",
    "df1=pd.merge(crime,NEETS,left_index=True, right_on=\"Ward Name \")\n",
    "df2=pd.merge(df1,dep,left_on=\"Ward Name \",right_on=\"2016 Ward\")\n",
    "df3=pd.merge(df2,dis,left_on=\"Ward Name \",right_on=\"2016 Ward Name\").drop(\"Ward Name \",axis=1)\n",
    "df4=pd.merge(df3,eth,left_on=\"2016 Ward Name\",right_on=\"2016 Ward name\").drop(\"2016 Ward name\",axis=1)\n",
    "data=pd.merge(df4,oc,on=\"2016 Ward Name\").drop(\"2016 Ward Name\",axis=1)\n",
    "data"
   ]
  },
  {
   "cell_type": "code",
   "execution_count": null,
   "metadata": {},
   "outputs": [],
   "source": [
    "data.describe()"
   ]
  },
  {
   "cell_type": "code",
   "execution_count": null,
   "metadata": {},
   "outputs": [],
   "source": [
    "sb.pairplot(data)"
   ]
  },
  {
   "cell_type": "code",
   "execution_count": null,
   "metadata": {},
   "outputs": [],
   "source": [
    "corr_matrix=data.corr()\n",
    "corr_matrix"
   ]
  },
  {
   "cell_type": "code",
   "execution_count": null,
   "metadata": {},
   "outputs": [],
   "source": [
    "#Model 1 Linear Regression\n",
    "\n",
    "y=data[\"All Crimes (rate per 1000 ward population)\"]\n",
    "X=data[[\"% NEET or Not Known 16-17 year olds\",\"Index of Multiple Deprivation Score\",\"% Black and Minority Ethnic Group\"]]\n",
    "\n",
    "\n",
    "lr=LinearRegression()\n",
    "\n",
    "kfold = KFold(n_splits=8, shuffle=True, random_state=7)\n",
    "lr_results = cross_val_score(lr, X, y, cv=kfold, scoring=\"neg_root_mean_squared_error\")\n",
    "print(\"Mean root mean squared error is: \",-np.round(lr_results.mean(),2),\"Standard deviation is: \", np.round(lr_results.std(),2))\n"
   ]
  },
  {
   "cell_type": "code",
   "execution_count": null,
   "metadata": {},
   "outputs": [],
   "source": [
    "lr.fit(X,y)\n",
    "coefficients = lr.coef_\n",
    "importance = np.abs(coefficients)\n",
    "print(importance)"
   ]
  },
  {
   "cell_type": "code",
   "execution_count": null,
   "metadata": {},
   "outputs": [],
   "source": [
    "#Model 2 Ridge regression\n",
    "\n",
    "cv_inner = KFold(n_splits=3, shuffle=True, random_state=7)\n",
    "\n",
    "ridge = linear_model.Ridge()\n",
    "\n",
    "\n",
    "params ={\"alpha\":[0.1, 1,10]}\n",
    "\n",
    "\n",
    "model = GridSearchCV(ridge, params, scoring='neg_root_mean_squared_error', cv=cv_inner, refit=True)\n",
    "\n",
    "cv_outer = KFold(n_splits=8, shuffle=True, random_state=7)\n",
    "\n",
    "ridge_results = cross_val_score(model, X, y, scoring='neg_root_mean_squared_error', cv=cv_outer)\n",
    "print(\"Mean root mean squared error is: \",-np.round(ridge_results.mean(),2),\"Standard deviation is: \", np.round(ridge_results.std(),2))\n",
    "\n"
   ]
  },
  {
   "cell_type": "code",
   "execution_count": null,
   "metadata": {},
   "outputs": [],
   "source": [
    "model.fit(X,y)\n",
    "coefficients = model.best_estimator_.coef_\n",
    "importance = np.abs(coefficients)\n",
    "print(importance)"
   ]
  },
  {
   "cell_type": "code",
   "execution_count": null,
   "metadata": {},
   "outputs": [],
   "source": [
    "#Model 3 Lasso regression\n",
    "\n",
    "cv_inner = KFold(n_splits=3, shuffle=True, random_state=7)\n",
    "\n",
    "lasso = linear_model.Lasso()\n",
    "\n",
    "\n",
    "params ={\"alpha\":[1, 0.1, 0.01,0.001]}\n",
    "\n",
    "\n",
    "lasso2 = GridSearchCV(lasso, params, scoring='neg_root_mean_squared_error', cv=cv_inner, refit=True)\n",
    "\n",
    "cv_outer = KFold(n_splits=8, shuffle=True, random_state=7)\n",
    "\n",
    "lasso_results = cross_val_score(lasso2, X, y, scoring=\"neg_root_mean_squared_error\", cv=kfold)\n",
    "print(\"Mean root mean squared error is: \",-np.round(lasso_results.mean(),2),\"Standard deviation is: \", np.round(lasso_results.std(),2))"
   ]
  },
  {
   "cell_type": "code",
   "execution_count": null,
   "metadata": {},
   "outputs": [],
   "source": [
    "lasso2.fit(X,y)\n",
    "coefficients = lasso2.best_estimator_.coef_\n",
    "importance = np.abs(coefficients)\n",
    "print(importance)"
   ]
  },
  {
   "cell_type": "code",
   "execution_count": null,
   "metadata": {},
   "outputs": [],
   "source": [
    "#Model 4 Decision Tree\n",
    "\n",
    "cv_inner = KFold(n_splits=3, shuffle=True, random_state=7)\n",
    "\n",
    "DT = DecisionTreeRegressor()\n",
    "\n",
    "\n",
    "random_grid={\"splitter\":[\"best\",\"random\"],\n",
    "            \"max_depth\" : [1,3,5,7,9,11,12],\n",
    "            \"min_samples_leaf\":[1,2,3,4,5,6,7,8,9,10],\n",
    "            \"min_weight_fraction_leaf\":[0,0.5],\n",
    "            \"max_features\":[\"auto\",\"log2\",\"sqrt\",None],\n",
    "            \"max_leaf_nodes\":[None,10,20,30]}\n",
    "\n",
    "\n",
    "model2 = RandomizedSearchCV(estimator = DT, param_distributions = random_grid, n_iter = 100, cv = 3,random_state=7, n_jobs = -1)\n",
    "\n",
    "cv_outer = KFold(n_splits=8, shuffle=True, random_state=7)\n",
    "\n",
    "DT_results = cross_val_score(model2, X, y, scoring='neg_root_mean_squared_error', cv=cv_outer)\n",
    "print(\"Mean root mean squared error is: \",-np.round(DT_results.mean(),2),\"Standard deviation is: \", np.round(DT_results.std(),2))\n"
   ]
  },
  {
   "cell_type": "code",
   "execution_count": null,
   "metadata": {},
   "outputs": [],
   "source": [
    "model2.fit(X,y)\n",
    "coefficients = model2.best_estimator_.feature_importances_\n",
    "for i,v in enumerate(coefficients):\n",
    "     print('Feature: %0d, Score: %.5f' % (i,v))"
   ]
  },
  {
   "cell_type": "code",
   "execution_count": null,
   "metadata": {},
   "outputs": [],
   "source": [
    "#Model 5 Random Forest Regression\n",
    "\n",
    "cv_inner = KFold(n_splits=3, shuffle=True, random_state=7)\n",
    "\n",
    "RF = RandomForestRegressor()\n",
    "\n",
    "random_grid={\"n_estimators\":[50,100,200,400,500,1000],\n",
    "             \"max_features\": [\"auto\", \"sqrt\"],\n",
    "             \"max_depth\":[1,3,5,7,9,11,12],\n",
    "             \"min_samples_split\":[2, 5, 10],\n",
    "             \"min_samples_leaf\": [1,2,3,4,5,6,7,8,9,10],\n",
    "             \"bootstrap\": [True, False]}\n",
    "\n",
    "model3 = RandomizedSearchCV(estimator = RF, param_distributions = random_grid, n_iter = 100, cv = 3,random_state=7, n_jobs = -1)\n",
    "\n",
    "cv_outer = KFold(n_splits=8, shuffle=True, random_state=7)\n",
    "\n",
    "RF_results = cross_val_score(model3, X, y, scoring=\"neg_root_mean_squared_error\", cv=cv_outer)\n",
    "print(\"Mean root mean squared error is: \",-np.round(RF_results.mean(),2),\"Standard deviation is: \", np.round(RF_results.std(),2))"
   ]
  },
  {
   "cell_type": "code",
   "execution_count": null,
   "metadata": {},
   "outputs": [],
   "source": [
    "model3.fit(X,y)\n",
    "coefficients2 = model3.best_estimator_.feature_importances_\n",
    "for i,v in enumerate(coefficients2):\n",
    "     print('Feature: %0d, Score: %.5f' % (i,v))"
   ]
  },
  {
   "cell_type": "code",
   "execution_count": null,
   "metadata": {},
   "outputs": [],
   "source": [
    "print('Best Hyperparameters: %s' % model3.best_params_)"
   ]
  },
  {
   "cell_type": "code",
   "execution_count": null,
   "metadata": {},
   "outputs": [],
   "source": [
    "#Model 6 KNearestNeighbour Regression\n",
    "cv_inner = KFold(n_splits=3, shuffle=True, random_state=7)\n",
    "\n",
    "KNN = KNeighborsRegressor()\n",
    "\n",
    "\n",
    "params={\"leaf_size\":[1,3],\n",
    "        \"n_neighbors\":[2,3,4,5],\n",
    "        \"p\":[1,2]}\n",
    "\n",
    "\n",
    "model4 = GridSearchCV(KNN, params, scoring=\"neg_root_mean_squared_error\", cv=cv_inner, refit=True)\n",
    "\n",
    "cv_outer = KFold(n_splits=8, shuffle=True, random_state=7)\n",
    "\n",
    "KNN_results = cross_val_score(model4, X, y, scoring=\"neg_root_mean_squared_error\", cv=cv_outer)\n",
    "print(\"Mean root mean squared error is: \",-np.round(KNN_results.mean(),2),\"Standard deviation is: \", np.round(KNN_results.std(),2))\n"
   ]
  }
 ],
 "metadata": {
  "kernelspec": {
   "display_name": "Python 3",
   "language": "python",
   "name": "python3"
  },
  "language_info": {
   "codemirror_mode": {
    "name": "ipython",
    "version": 3
   },
   "file_extension": ".py",
   "mimetype": "text/x-python",
   "name": "python",
   "nbconvert_exporter": "python",
   "pygments_lexer": "ipython3",
   "version": "3.8.5"
  }
 },
 "nbformat": 4,
 "nbformat_minor": 4
}
